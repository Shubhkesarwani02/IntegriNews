{
  "cells": [
    {
      "cell_type": "markdown",
      "metadata": {
        "id": "H45EnhM6HyQ0"
      },
      "source": [
        "#Here we are importing necessary libraries"
      ]
    },
    {
      "cell_type": "code",
      "execution_count": 7,
      "metadata": {
        "id": "vZvWxAIy4B-j"
      },
      "outputs": [],
      "source": [
        "import pandas as pd\n",
        "import numpy as np\n",
        "import re\n",
        "import nltk\n",
        "from nltk.tokenize import word_tokenize\n",
        "from nltk import pos_tag\n",
        "from nltk.corpus import wordnet, stopwords\n",
        "from nltk.stem import WordNetLemmatizer\n",
        "from sklearn.feature_extraction.text import TfidfVectorizer\n",
        "from sklearn.model_selection import train_test_split\n",
        "from sklearn.linear_model import LogisticRegression\n",
        "from sklearn.metrics import accuracy_score, classification_report, confusion_matrix, ConfusionMatrixDisplay\n",
        "import joblib\n",
        "import matplotlib.pyplot as plt\n",
        "# from google.colab import files\n",
        "import os"
      ]
    },
    {
      "cell_type": "markdown",
      "metadata": {
        "id": "i0LQepdtH_G1"
      },
      "source": [
        "#Here we are downloading NLTK resources"
      ]
    },
    {
      "cell_type": "code",
      "execution_count": 8,
      "metadata": {
        "colab": {
          "base_uri": "https://localhost:8080/"
        },
        "collapsed": true,
        "id": "LHNuQfgZ4oSz",
        "outputId": "0e3ff9ed-71e4-43c9-8e8c-2dbea30b3f9a"
      },
      "outputs": [
        {
          "name": "stderr",
          "output_type": "stream",
          "text": [
            "[nltk_data] Downloading package punkt to\n",
            "[nltk_data]     /Users/kunalkoshta/nltk_data...\n",
            "[nltk_data]   Package punkt is already up-to-date!\n",
            "[nltk_data] Downloading package wordnet to\n",
            "[nltk_data]     /Users/kunalkoshta/nltk_data...\n",
            "[nltk_data]   Package wordnet is already up-to-date!\n",
            "[nltk_data] Downloading package omw-1.4 to\n",
            "[nltk_data]     /Users/kunalkoshta/nltk_data...\n",
            "[nltk_data]   Package omw-1.4 is already up-to-date!\n",
            "[nltk_data] Downloading package averaged_perceptron_tagger to\n",
            "[nltk_data]     /Users/kunalkoshta/nltk_data...\n",
            "[nltk_data]   Package averaged_perceptron_tagger is already up-to-\n",
            "[nltk_data]       date!\n",
            "[nltk_data] Downloading package stopwords to\n",
            "[nltk_data]     /Users/kunalkoshta/nltk_data...\n",
            "[nltk_data]   Package stopwords is already up-to-date!\n"
          ]
        },
        {
          "data": {
            "text/plain": [
              "True"
            ]
          },
          "execution_count": 8,
          "metadata": {},
          "output_type": "execute_result"
        }
      ],
      "source": [
        "# Download NLTK resources\n",
        "nltk.download('punkt')\n",
        "nltk.download('wordnet')\n",
        "nltk.download('omw-1.4')  # For lemmatizer support\n",
        "nltk.download('averaged_perceptron_tagger')  # For POS tagging\n",
        "nltk.download('stopwords')"
      ]
    },
    {
      "cell_type": "markdown",
      "metadata": {
        "id": "0qCwPltMG-eb"
      },
      "source": [
        "#Connecting Google Drive"
      ]
    },
    {
      "cell_type": "markdown",
      "metadata": {
        "id": "F9ifeSrmHDe3"
      },
      "source": [
        "#Here we are Loading the Dataset"
      ]
    },
    {
      "cell_type": "code",
      "execution_count": 9,
      "metadata": {
        "colab": {
          "base_uri": "https://localhost:8080/"
        },
        "id": "TWTH6DgFE23C",
        "outputId": "13f935d4-faf8-419f-fad6-5103c9f6a8cf"
      },
      "outputs": [
        {
          "name": "stdout",
          "output_type": "stream",
          "text": [
            "(72134, 4)\n"
          ]
        },
        {
          "data": {
            "text/html": [
              "<div>\n",
              "<style scoped>\n",
              "    .dataframe tbody tr th:only-of-type {\n",
              "        vertical-align: middle;\n",
              "    }\n",
              "\n",
              "    .dataframe tbody tr th {\n",
              "        vertical-align: top;\n",
              "    }\n",
              "\n",
              "    .dataframe thead th {\n",
              "        text-align: right;\n",
              "    }\n",
              "</style>\n",
              "<table border=\"1\" class=\"dataframe\">\n",
              "  <thead>\n",
              "    <tr style=\"text-align: right;\">\n",
              "      <th></th>\n",
              "      <th>Unnamed: 0</th>\n",
              "      <th>title</th>\n",
              "      <th>text</th>\n",
              "      <th>label</th>\n",
              "    </tr>\n",
              "  </thead>\n",
              "  <tbody>\n",
              "    <tr>\n",
              "      <th>0</th>\n",
              "      <td>0</td>\n",
              "      <td>LAW ENFORCEMENT ON HIGH ALERT Following Threat...</td>\n",
              "      <td>No comment is expected from Barack Obama Membe...</td>\n",
              "      <td>1</td>\n",
              "    </tr>\n",
              "    <tr>\n",
              "      <th>1</th>\n",
              "      <td>1</td>\n",
              "      <td>NaN</td>\n",
              "      <td>Did they post their votes for Hillary already?</td>\n",
              "      <td>1</td>\n",
              "    </tr>\n",
              "    <tr>\n",
              "      <th>2</th>\n",
              "      <td>2</td>\n",
              "      <td>UNBELIEVABLE! OBAMA’S ATTORNEY GENERAL SAYS MO...</td>\n",
              "      <td>Now, most of the demonstrators gathered last ...</td>\n",
              "      <td>1</td>\n",
              "    </tr>\n",
              "    <tr>\n",
              "      <th>3</th>\n",
              "      <td>3</td>\n",
              "      <td>Bobby Jindal, raised Hindu, uses story of Chri...</td>\n",
              "      <td>A dozen politically active pastors came here f...</td>\n",
              "      <td>0</td>\n",
              "    </tr>\n",
              "    <tr>\n",
              "      <th>4</th>\n",
              "      <td>4</td>\n",
              "      <td>SATAN 2: Russia unvelis an image of its terrif...</td>\n",
              "      <td>The RS-28 Sarmat missile, dubbed Satan 2, will...</td>\n",
              "      <td>1</td>\n",
              "    </tr>\n",
              "  </tbody>\n",
              "</table>\n",
              "</div>"
            ],
            "text/plain": [
              "   Unnamed: 0                                              title  \\\n",
              "0           0  LAW ENFORCEMENT ON HIGH ALERT Following Threat...   \n",
              "1           1                                                NaN   \n",
              "2           2  UNBELIEVABLE! OBAMA’S ATTORNEY GENERAL SAYS MO...   \n",
              "3           3  Bobby Jindal, raised Hindu, uses story of Chri...   \n",
              "4           4  SATAN 2: Russia unvelis an image of its terrif...   \n",
              "\n",
              "                                                text  label  \n",
              "0  No comment is expected from Barack Obama Membe...      1  \n",
              "1     Did they post their votes for Hillary already?      1  \n",
              "2   Now, most of the demonstrators gathered last ...      1  \n",
              "3  A dozen politically active pastors came here f...      0  \n",
              "4  The RS-28 Sarmat missile, dubbed Satan 2, will...      1  "
            ]
          },
          "execution_count": 9,
          "metadata": {},
          "output_type": "execute_result"
        }
      ],
      "source": [
        "import pandas as pd\n",
        "\n",
        "file_path = \"/Users/kunalkoshta/Desktop/deepak/WELFake_Dataset.csv\"  # Update this\n",
        "df = pd.read_csv(file_path)\n",
        "\n",
        "print(df.shape)  # Check dataset size\n",
        "df.head()  # View first 5 rows"
      ]
    },
    {
      "cell_type": "markdown",
      "metadata": {
        "id": "QLOhkHqgGk8h"
      },
      "source": [
        "#Preprocess the Dataset\n",
        "Now, let's clean the data"
      ]
    },
    {
      "cell_type": "markdown",
      "metadata": {
        "id": "wuEhAfvkGhGz"
      },
      "source": [
        "Check for missing values"
      ]
    },
    {
      "cell_type": "code",
      "execution_count": 10,
      "metadata": {
        "colab": {
          "base_uri": "https://localhost:8080/"
        },
        "id": "a64s9-ySFkGH",
        "outputId": "f4f354b5-a977-425a-9917-e26d2907b887"
      },
      "outputs": [
        {
          "name": "stdout",
          "output_type": "stream",
          "text": [
            "Unnamed: 0      0\n",
            "title         558\n",
            "text           39\n",
            "label           0\n",
            "dtype: int64\n"
          ]
        }
      ],
      "source": [
        "print(df.isnull().sum())  # Shows missing values in each column"
      ]
    },
    {
      "cell_type": "markdown",
      "metadata": {
        "id": "KJg2qMgGGeJs"
      },
      "source": [
        "Drop missing values (if necessary)"
      ]
    },
    {
      "cell_type": "code",
      "execution_count": 11,
      "metadata": {
        "colab": {
          "base_uri": "https://localhost:8080/"
        },
        "id": "1J_CMthnFt3l",
        "outputId": "2849ecb0-d7ab-415b-f974-7166098552ff"
      },
      "outputs": [
        {
          "name": "stdout",
          "output_type": "stream",
          "text": [
            "(71537, 4)\n"
          ]
        }
      ],
      "source": [
        "df = df.dropna()\n",
        "print(df.shape)  # Check new dataset size after cleaning"
      ]
    },
    {
      "cell_type": "markdown",
      "metadata": {
        "id": "DaOinj9CGbWP"
      },
      "source": [
        "Remove duplicate rows (if any)"
      ]
    },
    {
      "cell_type": "code",
      "execution_count": 12,
      "metadata": {
        "colab": {
          "base_uri": "https://localhost:8080/"
        },
        "id": "eoOsT4NSF2k9",
        "outputId": "6b27e88c-f782-443c-e7bf-97ca40509c5a"
      },
      "outputs": [
        {
          "name": "stdout",
          "output_type": "stream",
          "text": [
            "(71537, 4)\n"
          ]
        }
      ],
      "source": [
        "df = df.drop_duplicates()\n",
        "print(df.shape)  # Check dataset size after removing duplicates"
      ]
    },
    {
      "cell_type": "markdown",
      "metadata": {
        "id": "aSWdLIYiGaB_"
      },
      "source": [
        "#Check the dataset structure"
      ]
    },
    {
      "cell_type": "code",
      "execution_count": 13,
      "metadata": {
        "colab": {
          "base_uri": "https://localhost:8080/"
        },
        "id": "FWODS9SPF8R_",
        "outputId": "9df71448-b79c-4b02-edff-a3335a122677"
      },
      "outputs": [
        {
          "name": "stdout",
          "output_type": "stream",
          "text": [
            "<class 'pandas.core.frame.DataFrame'>\n",
            "Index: 71537 entries, 0 to 72133\n",
            "Data columns (total 4 columns):\n",
            " #   Column      Non-Null Count  Dtype \n",
            "---  ------      --------------  ----- \n",
            " 0   Unnamed: 0  71537 non-null  int64 \n",
            " 1   title       71537 non-null  object\n",
            " 2   text        71537 non-null  object\n",
            " 3   label       71537 non-null  int64 \n",
            "dtypes: int64(2), object(2)\n",
            "memory usage: 2.7+ MB\n",
            "None\n"
          ]
        }
      ],
      "source": [
        "print(df.info())  # Shows column names and data types"
      ]
    },
    {
      "cell_type": "markdown",
      "metadata": {
        "id": "2tAH7n0OGzGD"
      },
      "source": [
        "#Check Data Distribution\n",
        "If your dataset has a \"label\" column (Fake / Real), check distribution"
      ]
    },
    {
      "cell_type": "markdown",
      "metadata": {
        "id": "5uElQ9OhGTSH"
      },
      "source": [
        "Now, your dataset is loaded and cleaned"
      ]
    },
    {
      "cell_type": "code",
      "execution_count": 14,
      "metadata": {
        "colab": {
          "base_uri": "https://localhost:8080/"
        },
        "id": "qw2JNHq5GCCt",
        "outputId": "13628d6d-b7ed-4650-ad1f-537d96fb96d8"
      },
      "outputs": [
        {
          "name": "stdout",
          "output_type": "stream",
          "text": [
            "label\n",
            "1    36509\n",
            "0    35028\n",
            "Name: count, dtype: int64\n"
          ]
        }
      ],
      "source": [
        "print(df[\"label\"].value_counts())  # Count number of Fake & Real news"
      ]
    },
    {
      "cell_type": "markdown",
      "metadata": {
        "id": "GgiNxbgGIkSq"
      },
      "source": [
        "#Data set imbalance ratio calculation"
      ]
    },
    {
      "cell_type": "code",
      "execution_count": 15,
      "metadata": {
        "colab": {
          "base_uri": "https://localhost:8080/"
        },
        "id": "mXIII6xxIjQ5",
        "outputId": "635cd32f-88c3-47c3-96fb-7c00043e3971"
      },
      "outputs": [
        {
          "name": "stdout",
          "output_type": "stream",
          "text": [
            "Imbalance Ratio: 1.04\n"
          ]
        }
      ],
      "source": [
        "imbalance_ratio = df['label'].value_counts().max() / df['label'].value_counts().min()\n",
        "print(f\"Imbalance Ratio: {imbalance_ratio:.2f}\")"
      ]
    },
    {
      "cell_type": "markdown",
      "metadata": {
        "id": "uWYIXeTOxPC9"
      },
      "source": [
        "#we are using bar chart to see the imbalance in data."
      ]
    },
    {
      "cell_type": "code",
      "execution_count": 16,
      "metadata": {
        "colab": {
          "base_uri": "https://localhost:8080/",
          "height": 467
        },
        "id": "THlIXiRBxKIQ",
        "outputId": "a936e460-5694-4160-813b-8187d38ec26e"
      },
      "outputs": [
        {
          "data": {
            "image/png": "[encoded data removed]",
            "text/plain": [
              "<Figure size 640x480 with 1 Axes>"
            ]
          },
          "metadata": {},
          "output_type": "display_data"
        }
      ],
      "source": [
        "import matplotlib.pyplot as plt\n",
        "\n",
        "df[\"label\"].value_counts().plot(kind=\"bar\", color=[\"blue\", \"orange\"])\n",
        "plt.xlabel(\"News Type\")\n",
        "plt.ylabel(\"Count\")\n",
        "plt.title(\"Class Distribution in Fake News Dataset\")\n",
        "plt.show()"
      ]
    },
    {
      "cell_type": "markdown",
      "metadata": {
        "id": "iOmlE-IZJwpj"
      },
      "source": [
        "Steps for Text Preprocessing\n",
        " * Convert text to lowercase (to maintain consistency)\n",
        "* Remove special characters, numbers, and punctuation\n",
        "* Remove stopwords (e.g., is, the, in, and)\n",
        "* Apply stemming (reduce words to root form, e.g., running → run)\n",
        "* Convert text into numerical form (TF-IDF)"
      ]
    },
    {
      "cell_type": "markdown",
      "metadata": {
        "id": "OsI6r7OBJ0AY"
      },
      "source": [
        " Load the Dataset\n",
        "Since you've already loaded the dataset, let’s check the text column:"
      ]
    },
    {
      "cell_type": "code",
      "execution_count": 17,
      "metadata": {
        "colab": {
          "base_uri": "https://localhost:8080/"
        },
        "id": "VpoC1ql7JvGv",
        "outputId": "0b38c258-ce48-4fad-f7b6-b8e736ace3cb"
      },
      "outputs": [
        {
          "name": "stdout",
          "output_type": "stream",
          "text": [
            "   Unnamed: 0                                              title  \\\n",
            "0           0  LAW ENFORCEMENT ON HIGH ALERT Following Threat...   \n",
            "2           2  UNBELIEVABLE! OBAMA’S ATTORNEY GENERAL SAYS MO...   \n",
            "3           3  Bobby Jindal, raised Hindu, uses story of Chri...   \n",
            "4           4  SATAN 2: Russia unvelis an image of its terrif...   \n",
            "5           5  About Time! Christian Group Sues Amazon and SP...   \n",
            "\n",
            "                                                text  label  \n",
            "0  No comment is expected from Barack Obama Membe...      1  \n",
            "2   Now, most of the demonstrators gathered last ...      1  \n",
            "3  A dozen politically active pastors came here f...      0  \n",
            "4  The RS-28 Sarmat missile, dubbed Satan 2, will...      1  \n",
            "5  All we can say on this one is it s about time ...      1  \n"
          ]
        }
      ],
      "source": [
        "print(df.head())  # View dataset structure"
      ]
    },
    {
      "cell_type": "markdown",
      "metadata": {
        "id": "o7CKE3uzK5tN"
      },
      "source": [
        "Install and Import Libraries"
      ]
    },
    {
      "cell_type": "code",
      "execution_count": 18,
      "metadata": {
        "colab": {
          "base_uri": "https://localhost:8080/"
        },
        "collapsed": true,
        "id": "CqQJSb0VK1t7",
        "outputId": "c567e32d-5a01-4364-8419-5b6b348af206"
      },
      "outputs": [
        {
          "name": "stderr",
          "output_type": "stream",
          "text": [
            "[nltk_data] Downloading package punkt to\n",
            "[nltk_data]     /Users/kunalkoshta/nltk_data...\n",
            "[nltk_data]   Package punkt is already up-to-date!\n",
            "[nltk_data] Downloading package stopwords to\n",
            "[nltk_data]     /Users/kunalkoshta/nltk_data...\n",
            "[nltk_data]   Package stopwords is already up-to-date!\n",
            "[nltk_data] Downloading package wordnet to\n",
            "[nltk_data]     /Users/kunalkoshta/nltk_data...\n",
            "[nltk_data]   Package wordnet is already up-to-date!\n",
            "[nltk_data] Downloading package punkt to\n",
            "[nltk_data]     /Users/kunalkoshta/nltk_data...\n",
            "[nltk_data]   Package punkt is already up-to-date!\n"
          ]
        },
        {
          "data": {
            "text/plain": [
              "True"
            ]
          },
          "execution_count": 18,
          "metadata": {},
          "output_type": "execute_result"
        }
      ],
      "source": [
        "from nltk.corpus import stopwords\n",
        "from nltk.tokenize import word_tokenize\n",
        "from nltk.stem import WordNetLemmatizer\n",
        "nltk.download('punkt')\n",
        "nltk.download('stopwords')\n",
        "nltk.download('wordnet')\n",
        "import nltk\n",
        "nltk.download('punkt')\n"
      ]
    },
    {
      "cell_type": "markdown",
      "metadata": {
        "id": "pagMrQMs0KWf"
      },
      "source": [
        "#Convert Text into Numerical Features (TF-IDF Vectorization)\n",
        "\n",
        "Since machine learning models can’t process text directly, we convert text into numerical vectors. The TF-IDF (Term Frequency-Inverse Document Frequency) method works well for NLP tasks like Fake News Detection."
      ]
    },
    {
      "cell_type": "code",
      "execution_count": 19,
      "metadata": {
        "colab": {
          "base_uri": "https://localhost:8080/"
        },
        "id": "1d3zsZO_J_pL",
        "outputId": "64354c42-c6cc-4199-98fb-6c2cc85bad4b"
      },
      "outputs": [
        {
          "name": "stdout",
          "output_type": "stream",
          "text": [
            "sample sentence testing text processing pipeline\n"
          ]
        }
      ],
      "source": [
        "# Initialize lemmatizer and stopwords\n",
        "lemmatizer = WordNetLemmatizer()\n",
        "stop_words = set(stopwords.words(\"english\"))\n",
        "\n",
        "def get_wordnet_pos(tag):\n",
        "    if tag.startswith('J'):\n",
        "        return wordnet.ADJ\n",
        "    elif tag.startswith('V'):\n",
        "        return wordnet.VERB\n",
        "    elif tag.startswith('N'):\n",
        "        return wordnet.NOUN\n",
        "    elif tag.startswith('R'):\n",
        "        return wordnet.ADV\n",
        "    else:\n",
        "        return wordnet.NOUN\n",
        "\n",
        "def preprocess_text(text):\n",
        "    text = text.lower()\n",
        "    text = re.sub(r\"[^a-zA-Z\\s]\", \"\", text)\n",
        "    words = re.findall(r'\\b\\w+\\b', text)  # This will extract words using regular expression\n",
        "    words = [lemmatizer.lemmatize(word) for word in words if word not in stop_words]\n",
        "    return \" \".join(words)\n",
        "\n",
        "\n",
        "# Sample text to test the preprocessing\n",
        "sample_text = \"This is a sample sentence for testing the text processing pipeline.\"\n",
        "\n",
        "# Preprocess the text\n",
        "processed_text = preprocess_text(sample_text)\n",
        "print(processed_text)\n"
      ]
    },
    {
      "cell_type": "markdown",
      "metadata": {
        "id": "gFKMgce62Q7q"
      },
      "source": [
        "Why TF-IDF is Useful for Fake News Detection?\n",
        "\n",
        "\n",
        "* Removes common words that don’t add meaning (e.g., \"the\", \"is\").\n",
        "* Assigns higher importance to unique words (e.g., \"propaganda\", \"hoax\").\n",
        "* Prepares data for ML models like Logistic Regression, SVM, or Neural Networks.\n",
        "\n"
      ]
    },
    {
      "cell_type": "code",
      "execution_count": 20,
      "metadata": {
        "colab": {
          "base_uri": "https://localhost:8080/"
        },
        "id": "ts5dduobzSmN",
        "outputId": "2812dc54-9e95-43a0-bbbb-da6ab4b1005e"
      },
      "outputs": [
        {
          "name": "stdout",
          "output_type": "stream",
          "text": [
            "Index(['Unnamed: 0', 'title', 'text', 'label', 'cleaned_text'], dtype='object')\n"
          ]
        }
      ],
      "source": [
        "# Apply preprocessing to the 'text' column\n",
        "df[\"cleaned_text\"] = df[\"text\"].apply(preprocess_text)\n",
        "\n",
        "# Check if 'cleaned_text' is created\n",
        "print(df.columns)  # Ensure 'cleaned_text' exists"
      ]
    },
    {
      "cell_type": "markdown",
      "metadata": {
        "id": "s4mvts2E1j9l"
      },
      "source": [
        "max_features=5000: Keeps only the top 5000 most important words (to reduce computational load)."
      ]
    },
    {
      "cell_type": "code",
      "execution_count": 21,
      "metadata": {
        "colab": {
          "base_uri": "https://localhost:8080/"
        },
        "id": "BaflGT9f0J1R",
        "outputId": "ba9b8652-da5c-4149-deea-c897bbaa3f32"
      },
      "outputs": [
        {
          "name": "stdout",
          "output_type": "stream",
          "text": [
            "(71537, 5000)\n"
          ]
        }
      ],
      "source": [
        "from sklearn.feature_extraction.text import TfidfVectorizer\n",
        "\n",
        "vectorizer = TfidfVectorizer(max_features=5000)  # Convert text to 5000 features\n",
        "X = vectorizer.fit_transform(df[\"cleaned_text\"])\n",
        "\n",
        "print(X.shape)  # Check shape of feature matrix"
      ]
    },
    {
      "cell_type": "markdown",
      "metadata": {
        "id": "VevS3KlF0fRL"
      },
      "source": [
        " Prepare Labels for Model Training\n",
        "Convert labels (Fake, Real) into numerical format (0, 1):"
      ]
    },
    {
      "cell_type": "code",
      "execution_count": 22,
      "metadata": {
        "id": "Yfbe_VpR0nGR"
      },
      "outputs": [],
      "source": [
        "y = df[\"label\"].map({\"Fake\": 0, \"Real\": 1})  # Encode Fake as 0, Real as 1"
      ]
    },
    {
      "cell_type": "markdown",
      "metadata": {
        "id": "-2KajNGb2l4v"
      },
      "source": [
        "Here we will train our model"
      ]
    },
    {
      "cell_type": "markdown",
      "metadata": {
        "id": "7rjPtIkTkP25"
      },
      "source": [
        "#Logistic Regression model"
      ]
    },
    {
      "cell_type": "code",
      "execution_count": 23,
      "metadata": {
        "colab": {
          "base_uri": "https://localhost:8080/"
        },
        "id": "VwGQHkfX2kAB",
        "outputId": "31bcf33b-e5ff-472c-c24e-f3fbaef792a6"
      },
      "outputs": [
        {
          "name": "stdout",
          "output_type": "stream",
          "text": [
            "NaN values in target variable: 71537\n",
            "Training Samples: 57229, Testing Samples: 14308\n",
            "Accuracy: 0.9451\n",
            "Classification Report:\n",
            "               precision    recall  f1-score   support\n",
            "\n",
            "           0       0.95      0.94      0.94      7081\n",
            "           1       0.94      0.95      0.95      7227\n",
            "\n",
            "    accuracy                           0.95     14308\n",
            "   macro avg       0.95      0.95      0.95     14308\n",
            "weighted avg       0.95      0.95      0.95     14308\n",
            "\n"
          ]
        }
      ],
      "source": [
        "# Check if there are NaN values in y\n",
        "print(f\"NaN values in target variable: {y.isna().sum()}\")\n",
        "\n",
        "# Remove rows where y is NaN\n",
        "df_clean = df.dropna(subset=['text', 'label'])  # Assuming 'text' is your feature column and 'label' is the target column\n",
        "\n",
        "# Update X and y\n",
        "X_clean = vectorizer.fit_transform(df_clean[\"cleaned_text\"])\n",
        "y_clean = df_clean[\"label\"]\n",
        "\n",
        "# Split data again (80% training, 20% testing)\n",
        "X_train, X_test, y_train, y_test = train_test_split(X_clean, y_clean, test_size=0.2, random_state=42)\n",
        "\n",
        "print(f\"Training Samples: {X_train.shape[0]}, Testing Samples: {X_test.shape[0]}\")\n",
        "\n",
        "# Initialize and train the Logistic Regression model\n",
        "lr_model = LogisticRegression(class_weight='balanced')\n",
        "lr_model.fit(X_train, y_train)\n",
        "\n",
        "# Predict on the test data\n",
        "y_pred = lr_model.predict(X_test)\n",
        "\n",
        "# Calculate accuracy\n",
        "accuracy = accuracy_score(y_test, y_pred)\n",
        "print(f\"Accuracy: {accuracy:.4f}\")\n",
        "\n",
        "# Print detailed classification report\n",
        "print(\"Classification Report:\\n\", classification_report(y_test, y_pred))\n"
      ]
    },
    {
      "cell_type": "markdown",
      "metadata": {
        "id": "nJ3ktoE8X_BA"
      },
      "source": [
        "Saving the Model and vectorizer → So we can deploy it."
      ]
    },
    {
      "cell_type": "code",
      "execution_count": 24,
      "metadata": {
        "colab": {
          "base_uri": "https://localhost:8080/"
        },
        "id": "Ummg6F26pivV",
        "outputId": "593a8c63-7acf-478a-b6e5-322c96c6d3ee"
      },
      "outputs": [
        {
          "name": "stdout",
          "output_type": "stream",
          "text": [
            "Model and vectorizer saved.\n"
          ]
        }
      ],
      "source": [
        "import joblib\n",
        "joblib.dump(lr_model, 'Fake_News_Model.pkl')\n",
        "joblib.dump(vectorizer, 'tfidf_vectorizer.pkl')\n",
        "print(\"Model and vectorizer saved.\")"
      ]
    },
    {
      "cell_type": "code",
      "execution_count": 26,
      "metadata": {
        "colab": {
          "base_uri": "https://localhost:8080/",
          "height": 472
        },
        "id": "-SmvVrpX8O9T",
        "outputId": "d3ae1fca-29da-4755-dc4e-5ca173e3511d"
      },
      "outputs": [
        {
          "data": {
            "image/png": "[encoded data removed]",
            "text/plain": [
              "<Figure size 640x480 with 2 Axes>"
            ]
          },
          "metadata": {},
          "output_type": "display_data"
        }
      ],
      "source": [
        "from sklearn.metrics import confusion_matrix, ConfusionMatrixDisplay\n",
        "\n",
        "# Confusion Matrix\n",
        "cm = confusion_matrix(y_test, y_pred)\n",
        "disp = ConfusionMatrixDisplay(confusion_matrix=cm, display_labels=[\"Fake\", \"Real\"])\n",
        "disp.plot(cmap=\"Blues\", values_format=\"d\")\n",
        "plt.title(\"Confusion Matrix for Fake News Detection\")\n",
        "plt.show()"
      ]
    },
    {
      "cell_type": "markdown",
      "metadata": {
        "id": "8BDKpQhupeM7"
      },
      "source": [
        "checking the file, if they existed in colab temporary."
      ]
    },
    {
      "cell_type": "code",
      "execution_count": null,
      "metadata": {
        "colab": {
          "base_uri": "https://localhost:8080/"
        },
        "id": "lqDKpAWVorK7",
        "outputId": "1a0597ea-3f57-4cc4-e1e0-a8f0d4d2a22e"
      },
      "outputs": [
        {
          "data": {
            "text/plain": [
              "['.config',\n",
              " 'tfidf_vectorizer.pkl',\n",
              " 'drive',\n",
              " 'Fake_News_Model.pkl',\n",
              " 'sample_data']"
            ]
          },
          "execution_count": 74,
          "metadata": {},
          "output_type": "execute_result"
        }
      ],
      "source": [
        "import os\n",
        "os.listdir()"
      ]
    },
    {
      "cell_type": "code",
      "execution_count": 27,
      "metadata": {
        "colab": {
          "base_uri": "https://localhost:8080/"
        },
        "id": "8wTSEc-qoH8z",
        "outputId": "47309709-3045-4399-d4ac-c3b171a8b4e6"
      },
      "outputs": [
        {
          "name": "stdout",
          "output_type": "stream",
          "text": [
            "Prediction: Real\n"
          ]
        }
      ],
      "source": [
        "# Load the saved model and vectorizer\n",
        "model = joblib.load(\"Fake_News_Model.pkl\")\n",
        "vectorizer = joblib.load(\"tfidf_vectorizer.pkl\")\n",
        "\n",
        "# Preprocess the sample text\n",
        "sample_text = preprocess_text(\"Dead broke! yes, that another doozy that Hilla..\")\n",
        "\n",
        "# Transform and convert the vector to dense\n",
        "sample_vector = vectorizer.transform([sample_text]).toarray()\n",
        "\n",
        "# Predict using the dense vector\n",
        "prediction = model.predict(sample_vector)\n",
        "\n",
        "# Print the prediction result\n",
        "print(\"Prediction:\", \"Fake\" if prediction[0] == 0 else \"Real\")\n"
      ]
    }
  ],
  "metadata": {
    "colab": {
      "collapsed_sections": [
        "EdDEOCnCka17"
      ],
      "provenance": []
    },
    "kernelspec": {
      "display_name": "Python 3",
      "name": "python3"
    },
    "language_info": {
      "codemirror_mode": {
        "name": "ipython",
        "version": 3
      },
      "file_extension": ".py",
      "mimetype": "text/x-python",
      "name": "python",
      "nbconvert_exporter": "python",
      "pygments_lexer": "ipython3",
      "version": "3.12.7"
    }
  },
  "nbformat": 4,
  "nbformat_minor": 0
}
